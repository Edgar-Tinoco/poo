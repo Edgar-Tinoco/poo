{
  "nbformat": 4,
  "nbformat_minor": 0,
  "metadata": {
    "colab": {
      "provenance": [],
      "authorship_tag": "ABX9TyMWcBccJWFKvbGjvYoijfap",
      "include_colab_link": true
    },
    "kernelspec": {
      "name": "python3",
      "display_name": "Python 3"
    },
    "language_info": {
      "name": "python"
    }
  },
  "cells": [
    {
      "cell_type": "markdown",
      "metadata": {
        "id": "view-in-github",
        "colab_type": "text"
      },
      "source": [
        "<a href=\"https://colab.research.google.com/github/Edgar-Tinoco/poo/blob/main/programa1.ipynb\" target=\"_parent\"><img src=\"https://colab.research.google.com/assets/colab-badge.svg\" alt=\"Open In Colab\"/></a>"
      ]
    },
    {
      "cell_type": "code",
      "execution_count": null,
      "metadata": {
        "id": "4z0SFFz43buK"
      },
      "outputs": [],
      "source": []
    },
    {
      "cell_type": "markdown",
      "source": [
        "# **programación orientada a objetos**\n",
        "## **unidad 1: introduccion a poo**\n",
        "### maestro: jose gabriel rodriguez rivas\n",
        "### alumno: Edgari Giovanni tinoco nava\n"
      ],
      "metadata": {
        "id": "nX-l5qim4IlS"
      }
    },
    {
      "cell_type": "code",
      "source": [
        "# declarar variable\n",
        "# en python no hay necesidad de declarar el tipo de variable\n",
        "# cuando se le asigna el valor, automaticamenre python ya se sabe de que tipo es\n",
        "# python es case sensitive es decir que es sensisble a mayusculoas a la hora de\n",
        "#declarar variables, por lo tantono es lo mismo la variable x,  que la variable x\n",
        "x=5\n",
        "msg= \"hola mundo\"\n",
        "print(x,msg)"
      ],
      "metadata": {
        "colab": {
          "base_uri": "https://localhost:8080/"
        },
        "id": "33kI3CRN5vFp",
        "outputId": "0380fe04-7bba-4b6a-d739-d25cd77b039f"
      },
      "execution_count": null,
      "outputs": [
        {
          "output_type": "stream",
          "name": "stdout",
          "text": [
            "5 hola mundo\n"
          ]
        }
      ]
    },
    {
      "cell_type": "code",
      "source": [
        "# python es debilmente tipado, como es decir, no hay necesidad de declarar el tipo\n",
        "# de variable, y ademas, la misma variable en un momento puede ser entera y otra string\n",
        "# o booleana\n",
        "print(type(x) )\n",
        "x= \"hola\"\n",
        "print(type(x) )"
      ],
      "metadata": {
        "colab": {
          "base_uri": "https://localhost:8080/"
        },
        "id": "SRJntM3e7IPL",
        "outputId": "4c548678-283b-485e-fbd4-da6ca9edd47f"
      },
      "execution_count": null,
      "outputs": [
        {
          "output_type": "stream",
          "name": "stdout",
          "text": [
            "<class 'int'>\n",
            "<class 'str'>\n"
          ]
        }
      ]
    },
    {
      "cell_type": "code",
      "source": [
        "variable = input(\"escribe tu nombre\")\n",
        "print(\"tu nombre es\", variable)"
      ],
      "metadata": {
        "colab": {
          "base_uri": "https://localhost:8080/"
        },
        "id": "phiIkHFLaneq",
        "outputId": "6ee2f58a-bbb5-4b39-8e8f-13bc38bda62e"
      },
      "execution_count": null,
      "outputs": [
        {
          "output_type": "stream",
          "name": "stdout",
          "text": [
            "escribe tu nombrejuan\n",
            "tu nombre es juan\n"
          ]
        }
      ]
    },
    {
      "cell_type": "code",
      "source": [
        "#marca error por que se debe convertir el tipo de dato\n",
        "x=input(\"dame un numero para multiplicar\")\n",
        "z=x*5\n",
        "print(z)"
      ],
      "metadata": {
        "colab": {
          "base_uri": "https://localhost:8080/"
        },
        "id": "mBK5s2vFd9ld",
        "outputId": "902ebbbc-7ffb-4da8-8a0e-f75ae0c59267"
      },
      "execution_count": null,
      "outputs": [
        {
          "output_type": "stream",
          "name": "stdout",
          "text": [
            "dame un numero para multiplicar6\n",
            "66666\n"
          ]
        }
      ]
    },
    {
      "cell_type": "code",
      "source": [
        "x=int(input(\"dame un numero para multiplicar\"))\n",
        "z=x*5\n",
        "print(z)"
      ],
      "metadata": {
        "colab": {
          "base_uri": "https://localhost:8080/"
        },
        "id": "qMeBfFZterN9",
        "outputId": "691d9c8a-e9e6-4813-e1a7-d6d325bb7447"
      },
      "execution_count": null,
      "outputs": [
        {
          "output_type": "stream",
          "name": "stdout",
          "text": [
            "dame un numero para multiplicar7\n",
            "35\n"
          ]
        }
      ]
    },
    {
      "cell_type": "code",
      "source": [
        "cateto_a = float(input(\"insertar la longitud del primer cateto\"))\n",
        "cateto_b = float(input(\"insertar la longitud del segundo cateto\"))\n",
        "hipo = (cateto_a**2 + cateto_b**2) ** .5\n",
        "print(\"la longitud de la hipotenusa es: \", hipo)"
      ],
      "metadata": {
        "colab": {
          "base_uri": "https://localhost:8080/"
        },
        "id": "dcxmVUg6fWpa",
        "outputId": "be8d4a77-5698-48e4-ad9f-0e69d7f44789"
      },
      "execution_count": null,
      "outputs": [
        {
          "output_type": "stream",
          "name": "stdout",
          "text": [
            "insertar la longitud del primer cateto9\n",
            "insertar la longitud del segundo cateto4\n",
            "la longitud de la hipotenusa es:  9.848857801796104\n"
          ]
        }
      ]
    },
    {
      "cell_type": "code",
      "source": [
        "catet0_a = float(input(\"insertar la longitud del primer cateto\"))\n",
        "cateto_b = float(input(\"insertar la longitud del segundo cateto\"))\n",
        "hipo = (catet0_a**2 + cateto_b**2) ** .5\n",
        "\n",
        "print(hipo)"
      ],
      "metadata": {
        "id": "PitWEMTRgYY6",
        "colab": {
          "base_uri": "https://localhost:8080/"
        },
        "outputId": "f3a6607b-6ee1-40e0-9c46-19905983d0d4"
      },
      "execution_count": 2,
      "outputs": [
        {
          "output_type": "stream",
          "name": "stdout",
          "text": [
            "insertar la longitud del primer cateto44\n",
            "insertar la longitud del segundo cateto4\n",
            "44.181444068749045\n"
          ]
        }
      ]
    },
    {
      "cell_type": "code",
      "source": [
        "a = 3000\n",
        "b = 3000\n",
        "if b > a:\n",
        "  print(\"b es mayor que a\")\n",
        "  print(B, \"es mayor que\", a)\n",
        "else:\n",
        "  print(\"a es mayor que b\")\n",
        "  print(a, \"es mayor que\", b)\n",
        "\n",
        "print(\"fin del if\")"
      ],
      "metadata": {
        "colab": {
          "base_uri": "https://localhost:8080/"
        },
        "id": "cj7DAudPh_Ln",
        "outputId": "efdfdd83-cbef-433b-8b4d-7452280972cc"
      },
      "execution_count": 4,
      "outputs": [
        {
          "output_type": "stream",
          "name": "stdout",
          "text": [
            "a es mayor que b\n",
            "3000 es mayor que 3000\n",
            "fin del if\n"
          ]
        }
      ]
    },
    {
      "cell_type": "code",
      "source": [],
      "metadata": {
        "id": "xwXbFOu4ma1p"
      },
      "execution_count": null,
      "outputs": []
    },
    {
      "cell_type": "code",
      "source": [
        "a = 3000\n",
        "b = 3000\n",
        "if b > a:\n",
        "  print(\"b es mayor que a\")\n",
        "  print(\"b vale =>\", b)\n",
        "elif a == b:\n",
        "  print(\"a es igual que b\")\n",
        "  print(\"a vale =>\", a)\n",
        "else:\n",
        "  print(\"a es mayor que b\")\n",
        "  print(\"a vale =>\", a)\n",
        "print(\"fin del if\")"
      ],
      "metadata": {
        "colab": {
          "base_uri": "https://localhost:8080/"
        },
        "outputId": "b02a8b25-3412-46b5-fe85-78e5313a34e5",
        "id": "87qTTtu1mfiv"
      },
      "execution_count": 6,
      "outputs": [
        {
          "output_type": "stream",
          "name": "stdout",
          "text": [
            "a es igual que b\n",
            "a vale => 3000\n",
            "fin del if\n"
          ]
        }
      ]
    },
    {
      "cell_type": "code",
      "source": [
        "# if y if... else en  version corta o simplificada\n",
        "# del lado izquierdo es cuando es verdadera la condicion\n",
        "x = 50\n",
        "y = 60\n",
        "print(\"x es mayor que y\") if (x > y) else print(\"y es mayor que x\")"
      ],
      "metadata": {
        "colab": {
          "base_uri": "https://localhost:8080/"
        },
        "id": "q4mlfzs_noGt",
        "outputId": "4e0e2010-8d85-4ae2-f23a-d515f4d00a97"
      },
      "execution_count": 7,
      "outputs": [
        {
          "output_type": "stream",
          "name": "stdout",
          "text": [
            "y es mayor que x\n"
          ]
        }
      ]
    },
    {
      "cell_type": "markdown",
      "source": [
        "**ciclos o bucles**"
      ],
      "metadata": {
        "id": "9WazyOMpoXZ-"
      }
    },
    {
      "cell_type": "code",
      "source": [
        " i= 1\n",
        " while i <= 10:\n",
        "  print(i)\n",
        "  i += 1\n",
        "print(\"fuera del while\")"
      ],
      "metadata": {
        "colab": {
          "base_uri": "https://localhost:8080/"
        },
        "id": "gALZ8sSMoj_f",
        "outputId": "3724d33f-f9bb-4151-ca99-b199b559e4b5"
      },
      "execution_count": 8,
      "outputs": [
        {
          "output_type": "stream",
          "name": "stdout",
          "text": [
            "1\n",
            "2\n",
            "3\n",
            "4\n",
            "5\n",
            "6\n",
            "7\n",
            "8\n",
            "9\n",
            "10\n",
            "fuera del while\n"
          ]
        }
      ]
    },
    {
      "cell_type": "code",
      "source": [
        "# copiamos el ejmplo de arriba\n",
        "# agregamos una condicion para que se saga del ciclo cuando se cumpla un criterio\n"
      ],
      "metadata": {
        "id": "d2QcxiYzps3E"
      },
      "execution_count": null,
      "outputs": []
    },
    {
      "cell_type": "code",
      "source": [
        " i= 1\n",
        " while i <= 1000:\n",
        "  print(i)\n",
        "  if i == 10:\n",
        "    print(\"entro al if\")\n",
        "    break\n",
        "  i += 1\n",
        "print(\"fuera del while\")"
      ],
      "metadata": {
        "colab": {
          "base_uri": "https://localhost:8080/"
        },
        "outputId": "f0ef32e2-df28-46ee-bc84-0fd1767de927",
        "id": "ZloNxln_p-PN"
      },
      "execution_count": 9,
      "outputs": [
        {
          "output_type": "stream",
          "name": "stdout",
          "text": [
            "1\n",
            "2\n",
            "3\n",
            "4\n",
            "5\n",
            "6\n",
            "7\n",
            "8\n",
            "9\n",
            "10\n",
            "entro al if\n",
            "fuera del while\n"
          ]
        }
      ]
    },
    {
      "cell_type": "code",
      "source": [
        "while(True):\n",
        "  print(\"\"\"seleciona una opcion\n",
        "  1) opcion 1\n",
        "  2) opcion 2\n",
        "  3) salir\"\"\")\n",
        "  opcion = input(\"¿cual es la opcion que deseas? \")\n",
        "  if opcion == '1':\n",
        "    print(\"selccionastes la opcion 1 \\n\")\n",
        "  elif opcion == '2':\n",
        "    print(\"selccionastes la opcion 2 \\n\")\n",
        "  elif opcion == \"3\":\n",
        "    print(\"seleccionaste salir \\n\")\n",
        "    break\n",
        "  else:\n",
        "    print(\"opcion desconocida, vuelve a interntarlo\")\n",
        "  print(\"fuera del ciclo\")"
      ],
      "metadata": {
        "colab": {
          "base_uri": "https://localhost:8080/"
        },
        "id": "AloPkb4uqluA",
        "outputId": "c291582f-86d7-421f-f649-6d9ffe8e76bd"
      },
      "execution_count": 12,
      "outputs": [
        {
          "output_type": "stream",
          "name": "stdout",
          "text": [
            "seleciona una opcion\n",
            "  1) opcion 1\n",
            "  2) opcion 2\n",
            "  3) salir\n",
            "¿cual es la opcion que deseas? 10\n",
            "opcion desconocida, vuelve a interntarlo\n",
            "fuera del ciclo\n",
            "seleciona una opcion\n",
            "  1) opcion 1\n",
            "  2) opcion 2\n",
            "  3) salir\n",
            "¿cual es la opcion que deseas? g\n",
            "opcion desconocida, vuelve a interntarlo\n",
            "fuera del ciclo\n",
            "seleciona una opcion\n",
            "  1) opcion 1\n",
            "  2) opcion 2\n",
            "  3) salir\n",
            "¿cual es la opcion que deseas? 2\n",
            "selccionastes la opcion 2 \n",
            "\n",
            "fuera del ciclo\n",
            "seleciona una opcion\n",
            "  1) opcion 1\n",
            "  2) opcion 2\n",
            "  3) salir\n",
            "¿cual es la opcion que deseas? 3\n",
            "seleccionaste salir \n",
            "\n"
          ]
        }
      ]
    }
  ]
}
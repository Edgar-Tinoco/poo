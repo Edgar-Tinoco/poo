{
  "nbformat": 4,
  "nbformat_minor": 0,
  "metadata": {
    "colab": {
      "provenance": [],
      "authorship_tag": "ABX9TyNx7iLeHU2022g/ruQqRd31",
      "include_colab_link": true
    },
    "kernelspec": {
      "name": "python3",
      "display_name": "Python 3"
    },
    "language_info": {
      "name": "python"
    }
  },
  "cells": [
    {
      "cell_type": "markdown",
      "metadata": {
        "id": "view-in-github",
        "colab_type": "text"
      },
      "source": [
        "<a href=\"https://colab.research.google.com/github/Edgar-Tinoco/poo/blob/main/unidad4/probabilidaUNID4ll.ipynb\" target=\"_parent\"><img src=\"https://colab.research.google.com/assets/colab-badge.svg\" alt=\"Open In Colab\"/></a>"
      ]
    },
    {
      "cell_type": "code",
      "execution_count": null,
      "metadata": {
        "colab": {
          "base_uri": "https://localhost:8080/"
        },
        "id": "ONPFc9w_fbcI",
        "outputId": "f9e35a53-31d3-419f-e752-f4d89aad5e75"
      },
      "outputs": [
        {
          "output_type": "stream",
          "name": "stdout",
          "text": [
            "1. probabilidad de que no haya accidentes en 1 semana: 0.1353352832366127\n",
            "2. probabilidad de que haya 3 o menos accidentes en 2 semanas: 0.43347012036670896\n"
          ]
        }
      ],
      "source": [
        "from scipy.stats import poisson\n",
        "\n",
        "media_accidentes = 2\n",
        "probabilidad_0_accidentes = poisson.pmf(0, media_accidentes)\n",
        "\n",
        "print(\"1. probabilidad de que no haya accidentes en 1 semana:\", probabilidad_0_accidentes)\n",
        "\n",
        "media_2_semanas = media_accidentes * 2\n",
        "\n",
        "probabilidad_3_o_menos_accidentes = poisson.cdf(3, media_2_semanas)\n",
        "\n",
        "print(\"2. probabilidad de que haya 3 o menos accidentes en 2 semanas:\", probabilidad_3_o_menos_accidentes)"
      ]
    },
    {
      "cell_type": "code",
      "source": [
        "from scipy.stats import poisson\n",
        "\n",
        "media_muertes = 5000 * 0.001\n",
        "\n",
        "x = 4\n",
        "\n",
        "probabilidad_4_reclamaciones = poisson.pmf(x, media_muertes)\n",
        "\n",
        "print(\"la probabilidad de que la compañia tenga que pagar 4 reclamaciones es DE:\", probabilidad_4_reclamaciones)"
      ],
      "metadata": {
        "id": "VdrNwLqxhWYl",
        "colab": {
          "base_uri": "https://localhost:8080/"
        },
        "outputId": "ba8f4f61-fe70-4c58-94d1-36aae562588b"
      },
      "execution_count": 1,
      "outputs": [
        {
          "output_type": "stream",
          "name": "stdout",
          "text": [
            "la probabilidad de que la compañia tenga que pagar 4 reclamaciones es DE: 0.17546736976785063\n"
          ]
        }
      ]
    }
  ]
}
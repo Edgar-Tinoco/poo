{
  "nbformat": 4,
  "nbformat_minor": 0,
  "metadata": {
    "colab": {
      "provenance": [],
      "authorship_tag": "ABX9TyM3ho/ynocS6cAeeP4F7qMu",
      "include_colab_link": true
    },
    "kernelspec": {
      "name": "python3",
      "display_name": "Python 3"
    },
    "language_info": {
      "name": "python"
    }
  },
  "cells": [
    {
      "cell_type": "markdown",
      "metadata": {
        "id": "view-in-github",
        "colab_type": "text"
      },
      "source": [
        "<a href=\"https://colab.research.google.com/github/Edgar-Tinoco/poo/blob/main/unidad4/probabilidadUNID4.ipynb\" target=\"_parent\"><img src=\"https://colab.research.google.com/assets/colab-badge.svg\" alt=\"Open In Colab\"/></a>"
      ]
    },
    {
      "cell_type": "code",
      "execution_count": 1,
      "metadata": {
        "colab": {
          "base_uri": "https://localhost:8080/"
        },
        "id": "myfpKx9dYDCW",
        "outputId": "64b606b2-80c6-4f9a-c0e3-f181e2843c88"
      },
      "outputs": [
        {
          "output_type": "stream",
          "name": "stdout",
          "text": [
            "Probabilidad de que pese entre 68 y 72 kg: 0.3829\n",
            "Porcentaje: 38.29 %\n",
            "Número esperado de estudiantes: 191\n"
          ]
        }
      ],
      "source": [
        "from scipy.stats import norm\n",
        "\n",
        "media = 70\n",
        "desviacion = 4\n",
        "n = 500\n",
        "\n",
        "x1 = 68\n",
        "x2 = 72\n",
        "\n",
        "p1 = norm.cdf(x1, media, desviacion)\n",
        "p2 = norm.cdf(x2, media, desviacion)\n",
        "\n",
        "probabilidad = p2 - p1\n",
        "\n",
        "\n",
        "estudiantes = probabilidad * n\n",
        "\n",
        "print(\"Probabilidad de que pese entre 68 y 72 kg:\", round(probabilidad, 4))\n",
        "print(\"Porcentaje:\", round(probabilidad * 100, 2), \"%\")\n",
        "print(\"Número esperado de estudiantes:\", round(estudiantes))"
      ]
    }
  ]
}
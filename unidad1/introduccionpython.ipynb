{
  "nbformat": 4,
  "nbformat_minor": 0,
  "metadata": {
    "colab": {
      "provenance": [],
      "authorship_tag": "ABX9TyNh2uvipG4Ig0iFo2WFiMib",
      "include_colab_link": true
    },
    "kernelspec": {
      "name": "python3",
      "display_name": "Python 3"
    },
    "language_info": {
      "name": "python"
    }
  },
  "cells": [
    {
      "cell_type": "markdown",
      "metadata": {
        "id": "view-in-github",
        "colab_type": "text"
      },
      "source": [
        "<a href=\"https://colab.research.google.com/github/Edgar-Tinoco/poo/blob/main/unidad1/introduccionpython.ipynb\" target=\"_parent\"><img src=\"https://colab.research.google.com/assets/colab-badge.svg\" alt=\"Open In Colab\"/></a>"
      ]
    },
    {
      "cell_type": "code",
      "execution_count": null,
      "metadata": {
        "id": "yp57H_y7fsoS"
      },
      "outputs": [],
      "source": []
    },
    {
      "cell_type": "markdown",
      "source": [],
      "metadata": {
        "id": "38mR-6i0fyi2"
      }
    },
    {
      "cell_type": "markdown",
      "source": [
        "# **programación orientada a objetos**\n",
        "## **unidad 1: introduccion a python**\n",
        "### maestro: jose gabriel rodriguez rivas\n",
        "### alumno: Edgari Giovanni tinoco nava\n"
      ],
      "metadata": {
        "id": "nX-l5qim4IlS"
      }
    },
    {
      "cell_type": "code",
      "source": [
        "# definir class librp\n",
        "# cada objeto crado apartirr de la clase\n",
        "# python, self es una referencia al objeto actual( es decir, a mi mismo)\n",
        "# se utiliza para acceder a los atributos y metodos de la clase desde dentro de la\n",
        "\n",
        "# __int__() es un metodo especial llamado constructo\n",
        "# se ejectuta automaticamente cuando se crea una nueva instancia (onjeto) de la clase\n",
        "# sirve para inicializar los atributos del objeto con los valores que se le pasen\n",
        "class libro:\n",
        "  def __init__(self,titulo, autor, isbn, precio): # constructor de una clase\n",
        "    self.titulo = titulo\n",
        "    self.autor = autor\n",
        "    self.isbn = isbn\n",
        "    self.precio = precio\n",
        "  def mostrar_info(self):\n",
        "    return f\"{self.titulo} por {self.autor} - isbn: {self.isbn}, precio: ${self.precio}\""
      ],
      "metadata": {
        "id": "CSjrEnK-f3iY"
      },
      "execution_count": null,
      "outputs": []
    },
    {
      "cell_type": "code",
      "source": [
        "# crea una instancia concreta de una clase, con datos especificos\n",
        "\n",
        "libro1 = libro(\"cien años de soledad\", \"gabriel garcia marquez\", \"9780307474728\", 350.50)\n",
        "libro2 = libro(\"1984\", \"george orwell\", \"9780451524935\", 220.50)"
      ],
      "metadata": {
        "id": "4iha6aXDi2hS"
      },
      "execution_count": null,
      "outputs": []
    },
    {
      "cell_type": "code",
      "source": [
        "print(libro1.mostrar_info())\n",
        "print(libro2.mostrar_info())"
      ],
      "metadata": {
        "colab": {
          "base_uri": "https://localhost:8080/"
        },
        "id": "zy0Oyq1rkVHc",
        "outputId": "e46f630c-085e-425a-dc4c-8d130408d125"
      },
      "execution_count": null,
      "outputs": [
        {
          "output_type": "stream",
          "name": "stdout",
          "text": [
            "cien años de soledad por gabriel garcia marquez - isbn: 9780307474728, precio: $350.5\n",
            "1984 por george orwell - isbn: 9780451524935, precio: $220.5\n"
          ]
        }
      ]
    },
    {
      "cell_type": "markdown",
      "source": [
        "# sistema para libreria (prestamo)"
      ],
      "metadata": {
        "id": "VH-Ntat0yxGs"
      }
    },
    {
      "cell_type": "code",
      "source": [
        "class prestamo:\n",
        "  def __init__(self, libro, cliente, fecha_inicio, fecha_devolucion):\n",
        "    self.libro = libro\n",
        "    self.cliente = cliente\n",
        "    self.fecha_inicio = fecha_inicio\n",
        "    self.fecha_devolucion = fecha_devolucion\n",
        "\n",
        "  def verificar_estado():\n",
        "    return f\"el prestamo {self.libro} esta disponible\"\n",
        "\n",
        "  def renovar_prestamo():\n",
        "    return f\"el prestamo {self.libro} ha sido renovado\""
      ],
      "metadata": {
        "id": "THFkSUJYuyik"
      },
      "execution_count": null,
      "outputs": []
    },
    {
      "cell_type": "markdown",
      "source": [
        "# sistema de libreria (venta)"
      ],
      "metadata": {
        "id": "_UKBRzKry4nM"
      }
    },
    {
      "cell_type": "code",
      "source": [
        "class Venta:\n",
        "  def __init__(self, libros, cliente, total, fecha):\n",
        "    self.libros = libros\n",
        "    self.cliente = cliente\n",
        "    self.total = total\n",
        "    self.fecha = fecha\n",
        "\n",
        "  def calular_total(self):\n",
        "    return f\"el total de la venta es: ${self.total}\"\n",
        "\n",
        "  def generar_ticket(self):\n",
        "    return f\"el ticket de la venta es: ${self.total}\""
      ],
      "metadata": {
        "id": "MiVgT-azuiiB"
      },
      "execution_count": 9,
      "outputs": []
    },
    {
      "cell_type": "markdown",
      "source": [
        "## sistema de libreria (cliente)"
      ],
      "metadata": {
        "id": "AicoY23q3Vpj"
      }
    },
    {
      "cell_type": "code",
      "source": [
        "class cliente:\n",
        "  def __init__(self, email):\n",
        "    pass\n",
        "\n",
        "  def comprar_libro(self):\n",
        "    return f\"el cliente {self.email} ha comprado un libro\"\n",
        "\n",
        "  def consultar_historial(self):\n",
        "    return f\"el cliente {self.email} ha consultado su historial de compras\""
      ],
      "metadata": {
        "id": "UMMt6aImzrpY"
      },
      "execution_count": 7,
      "outputs": []
    },
    {
      "cell_type": "markdown",
      "source": [
        "## sistema para liberia (persona)"
      ],
      "metadata": {
        "id": "uRW_Vu-G4sbi"
      }
    },
    {
      "cell_type": "code",
      "source": [
        "class persona:\n",
        "  def __init__(self, nombre):\n",
        "    self.nombre = nombre"
      ],
      "metadata": {
        "id": "N8_MWL_d42h1"
      },
      "execution_count": 8,
      "outputs": []
    },
    {
      "cell_type": "markdown",
      "source": [
        "## sistema para libreria (trabajador)"
      ],
      "metadata": {
        "id": "SwH79TDj42Im"
      }
    },
    {
      "cell_type": "code",
      "source": [
        "class trabajador:\n",
        "  def __init__(self, puesto):\n",
        "    self.puesto = puesto\n",
        "\n",
        "  def registrar_venta(self):\n",
        "    return f\"el trabajador con puesto {self.puesto} ha registrado una venta\"\n",
        "  def gestionar_inventario(self):\n",
        "    return f\"el trabajador con puesto {self.puesto} ha gestionado el inventario\""
      ],
      "metadata": {
        "id": "4mHOPV1J4_KG"
      },
      "execution_count": 2,
      "outputs": []
    }
  ]
}
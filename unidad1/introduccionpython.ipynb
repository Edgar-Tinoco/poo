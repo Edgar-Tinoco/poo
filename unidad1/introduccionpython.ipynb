{
  "nbformat": 4,
  "nbformat_minor": 0,
  "metadata": {
    "colab": {
      "provenance": [],
      "authorship_tag": "ABX9TyONO7UIniasq6utvcxkKH5m",
      "include_colab_link": true
    },
    "kernelspec": {
      "name": "python3",
      "display_name": "Python 3"
    },
    "language_info": {
      "name": "python"
    }
  },
  "cells": [
    {
      "cell_type": "markdown",
      "metadata": {
        "id": "view-in-github",
        "colab_type": "text"
      },
      "source": [
        "<a href=\"https://colab.research.google.com/github/Edgar-Tinoco/poo/blob/main/unidad1/introduccionpython.ipynb\" target=\"_parent\"><img src=\"https://colab.research.google.com/assets/colab-badge.svg\" alt=\"Open In Colab\"/></a>"
      ]
    },
    {
      "cell_type": "code",
      "execution_count": null,
      "metadata": {
        "id": "yp57H_y7fsoS"
      },
      "outputs": [],
      "source": []
    },
    {
      "cell_type": "markdown",
      "source": [],
      "metadata": {
        "id": "38mR-6i0fyi2"
      }
    },
    {
      "cell_type": "markdown",
      "source": [
        "# **programación orientada a objetos**\n",
        "## **unidad 1: introduccion a python**\n",
        "### maestro: jose gabriel rodriguez rivas\n",
        "### alumno: Edgari Giovanni tinoco nava\n"
      ],
      "metadata": {
        "id": "nX-l5qim4IlS"
      }
    },
    {
      "cell_type": "code",
      "source": [
        "# definir class librp\n",
        "# cada objeto crado apartirr de la clase\n",
        "# python, self es una referencia al objeto actual( es decir, a mi mismo)\n",
        "# se utiliza para acceder a los atributos y metodos de la clase desde dentro de la\n",
        "\n",
        "# __int__() es un metodo especial llamado constructo\n",
        "# se ejectuta automaticamente cuando se crea una nueva instancia (onjeto) de la clase\n",
        "# sirve para inicializar los atributos del objeto con los valores que se le pasen\n",
        "class libro:\n",
        "  def __init__(self,titulo, autor, isbn, precio): # constructor de una clase\n",
        "    self.titulo = titulo\n",
        "    self.autor = autor\n",
        "    self.isbn = isbn\n",
        "    self.precio = precio\n",
        "  def mostrar_info(self):\n",
        "    return f\"{self.titulo} por {self.autor} - isbn: {self.isbn}, precio: ${self.precio}\""
      ],
      "metadata": {
        "id": "CSjrEnK-f3iY"
      },
      "execution_count": 3,
      "outputs": []
    },
    {
      "cell_type": "code",
      "source": [
        "# crea una instancia concreta de una clase, con datos especificos\n",
        "\n",
        "libro1 = libro(\"cien años de soledad\", \"gabriel garcia marquez\", \"9780307474728\", 350.50)\n",
        "libro2 = libro(\"1984\", \"george orwell\", \"9780451524935\", 220.50)"
      ],
      "metadata": {
        "id": "4iha6aXDi2hS"
      },
      "execution_count": 6,
      "outputs": []
    },
    {
      "cell_type": "code",
      "source": [
        "print(libro1.mostrar_info())\n",
        "print(libro2.mostrar_info())"
      ],
      "metadata": {
        "colab": {
          "base_uri": "https://localhost:8080/"
        },
        "id": "zy0Oyq1rkVHc",
        "outputId": "e46f630c-085e-425a-dc4c-8d130408d125"
      },
      "execution_count": 8,
      "outputs": [
        {
          "output_type": "stream",
          "name": "stdout",
          "text": [
            "cien años de soledad por gabriel garcia marquez - isbn: 9780307474728, precio: $350.5\n",
            "1984 por george orwell - isbn: 9780451524935, precio: $220.5\n"
          ]
        }
      ]
    }
  ]
}
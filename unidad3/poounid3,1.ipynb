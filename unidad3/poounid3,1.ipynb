{
  "nbformat": 4,
  "nbformat_minor": 0,
  "metadata": {
    "colab": {
      "provenance": [],
      "authorship_tag": "ABX9TyOrVkQ/gAjdKbl7IbXgzfZj",
      "include_colab_link": true
    },
    "kernelspec": {
      "name": "python3",
      "display_name": "Python 3"
    },
    "language_info": {
      "name": "python"
    }
  },
  "cells": [
    {
      "cell_type": "markdown",
      "metadata": {
        "id": "view-in-github",
        "colab_type": "text"
      },
      "source": [
        "<a href=\"https://colab.research.google.com/github/Edgar-Tinoco/poo/blob/main/unidad3/poounid3%2C1.ipynb\" target=\"_parent\"><img src=\"https://colab.research.google.com/assets/colab-badge.svg\" alt=\"Open In Colab\"/></a>"
      ]
    },
    {
      "cell_type": "code",
      "execution_count": null,
      "metadata": {
        "id": "0H4KtUw-6Lwy"
      },
      "outputs": [],
      "source": [
        "class libro:\n",
        "    def __init__(self, isbn, titulo, autor, categoria, precio):\n",
        "        self.isbn = isbn\n",
        "        self.titulo = titulo\n",
        "        self.autor = autor\n",
        "        self.categoria = categoria\n",
        "        self.precio = precio\n",
        "        self.prestado = False\n",
        "\n",
        "    def mostrar_info(self):\n",
        "        estado = \"prestado\" if self.prestado else \"disponible\"\n",
        "        print(f\"[{self.isbn}] {self.titulo} - {self.autor} | {self.categoria} | ${self.precio} | {estado}\")"
      ]
    },
    {
      "cell_type": "code",
      "source": [
        "class persona:\n",
        "    def __init__(self, nombre, correo, fecha_nacimiento):\n",
        "        self.nombre = nombre\n",
        "        self.correo = correo\n",
        "        self.fecha_nacimiento = fecha_nacimiento\n",
        "\n",
        "    def mostrar_info(self):\n",
        "        print(f\"nombre: {self.nombre} | correo: {self.correo} | fecha de nacimiento: {self.fecha_nacimiento}\")"
      ],
      "metadata": {
        "id": "Yj2FYhxE8U5D"
      },
      "execution_count": null,
      "outputs": []
    },
    {
      "cell_type": "code",
      "source": [
        "class estudiante(persona):\n",
        "    def __init__(self, num_control, nombre, carrera, fecha_nacimiento, telefono, correo):\n",
        "        super().__init__(nombre, correo, fecha_nacimiento)\n",
        "        self.num_control = num_control\n",
        "        self.nombre = nombre\n",
        "        self.carrera = carrera\n",
        "        self.fecha_nacimiento = fecha_nacimiento\n",
        "        self.telefono = telefono\n",
        "        self.correo = correo\n",
        "\n",
        "    def mostrar_info(self):\n",
        "        return (f\"[estudiante] {super().mostrar_info()}, \"f\"numero control: {self.num_control}, carrera: {self.carrera}, telefono: {self.telefono}\")"
      ],
      "metadata": {
        "id": "JeC7tGop8i7g"
      },
      "execution_count": null,
      "outputs": []
    },
    {
      "cell_type": "code",
      "source": [
        "class trabajador(persona):\n",
        "    def __init__(self, num_trabajador, nombre, correo, fecha_nacimiento, departamento, usuario, contraseña):\n",
        "        csuper().__init__(nombre, correo, fecha_nacimiento)\n",
        "        self.num_trabajador = num_trabajador\n",
        "        self.departamento = departamento\n",
        "        self.usuario = usuario\n",
        "        self.contraseña = contraseña\n",
        "\n",
        "    def mostrar_info(self):\n",
        "        return (f\"[trabajador] {super().mostrar_info()}, \"\n",
        "                f\"numero trabajador: {self.num_trabajador}, departamento: {self.departamento}, usuario: {self.usuario}\")"
      ],
      "metadata": {
        "id": "-GbUTGl28qMm"
      },
      "execution_count": null,
      "outputs": []
    },
    {
      "cell_type": "code",
      "source": [
        "def alta_trabajador():\n",
        "     print(\"\\n===== ALTA TRABAJADOR =====\")\n",
        "     num_trabajador = input(\"numero de trabajador: \")\n",
        "     for t in trabajadores:\n",
        "         if t.num_trabajador == num_trabajador:\n",
        "             print(\"¡Ya existe un trabajador con ese numero de trabajador!\")\n",
        "             return\n",
        "    nombre = input(\"nombre: \")\n",
        "    correo = input(\"correo: \")\n",
        "    fecha_nacimiento = input(\"fecha nacimiento (YYYY-MM-DD): \")\n",
        "    departamento = input(\"departamento: \")\n",
        "    usuario = input(\"usuario de acceso: \")\n",
        "    contraseña = input(\"contraseña: \")\n",
        "\n",
        "    nuevo = trabajador(num_trabajador, nombre, correo, fecha_nacimiento, departamento, usuario, contraseña)\n",
        "    trabajadores.append(nuevo)\n",
        "    print(f\"trabajador {nombre} agregado correctamente.\\n\")"
      ],
      "metadata": {
        "id": "OJlztaC2CODs"
      },
      "execution_count": null,
      "outputs": []
    },
    {
      "cell_type": "code",
      "source": [
        "def mostrar_trabajadores():\n",
        "    print(\"\\n -- lista de todos los trabajadores --\")\n",
        "    if not trabajadores:\n",
        "        print(\"no hay trabajadores registrados\")\n",
        "    else:\n",
        "        for trabajador in trabajadores:\n",
        "            trabajador.mostrar_info()"
      ],
      "metadata": {
        "id": "HLCgAcH8CUKA"
      },
      "execution_count": null,
      "outputs": []
    },
    {
      "cell_type": "code",
      "source": [
        "class Estudiante:\n",
        "    def __init__(self, num_control, nombre, carrera, fecha_nacimiento, telefono, correo):\n",
        "        self.num_control = num_control\n",
        "        self.nombre = nombre\n",
        "        self.carrera = carrera\n",
        "        self.fecha_nacimiento = fecha_nacimiento\n",
        "        self.telefono = telefono\n",
        "        self.correo = correo\n",
        "\n",
        "    def mostrar_info(self):\n",
        "        print(\n",
        "            f\"[{self.num_control}] {self.nombre} - {self.carrera} | Nac: {self.fecha_nacimiento} | Tel: {self.telefono} | Correo: {self.correo}\")"
      ],
      "metadata": {
        "id": "C8bBoEWxCgfi"
      },
      "execution_count": null,
      "outputs": []
    },
    {
      "cell_type": "code",
      "source": [
        "def alta_estudiante():\n",
        "    print(\"\\n--- Alta de Estudiante ---\")\n",
        "    num_control = input(\"Número de control: \")\n",
        "    for est in estudiantes:\n",
        "        if est.num_control == num_control:\n",
        "            print(\"¡Ya existe un estudiante con ese número de control!\")\n",
        "            return\n",
        "    nombre = input(\"Nombre: \")\n",
        "    carrera = input(\"Carrera: \")\n",
        "    fecha_nacimiento = input(\"Fecha de nacimiento (dd/mm/aaaa): \")\n",
        "    telefono = input(\"Teléfono: \")\n",
        "    correo = input(\"Correo electrónico: \")\n",
        "    nuevo_estudiante = Estudiante(num_control, nombre, carrera, fecha_nacimiento, telefono, correo)\n",
        "    estudiantes.append(nuevo_estudiante)\n",
        "    print(\"Estudiante registrado exitosamente.\")"
      ],
      "metadata": {
        "id": "XD-2YmEAFJCu"
      },
      "execution_count": null,
      "outputs": []
    },
    {
      "cell_type": "code",
      "source": [
        " class Prestamo:\n",
        "    contador_prestamos = 1\n",
        "\n",
        "    def __init__(self, num_control, isbn, fecha_inicio, fecha_termino):\n",
        "        self.folio = Prestamo.contador_prestamos\n",
        "        Prestamo.contador_prestamos += 1\n",
        "        self.num_control = num_control\n",
        "        self.isbn = isbn\n",
        "        self.fecha_inicio = fecha_inicio\n",
        "        self.fecha_termino = fecha_termino\n",
        "\n",
        "    def mostrar_info(self):\n",
        "        print(\n",
        "            f\"Folio: {self.folio} | Num. Control: {self.num_control} | ISBN: {self.isbn} | Fecha Inicio: {self.fecha_inicio} | Fecha Término: {self.fecha_termino}\")"
      ],
      "metadata": {
        "id": "rzAPZYB9CsaA"
      },
      "execution_count": null,
      "outputs": []
    },
    {
      "cell_type": "code",
      "source": [
        "class Venta:\n",
        "    contador_ventas = 1\n",
        "\n",
        "    def __init__(self, isbn, num_control, fecha, cantidad, importe):\n",
        "        self.folio_venta = Venta.contador_ventas\n",
        "        Venta.contador_ventas += 1\n",
        "        self.isbn = isbn\n",
        "        self.num_control = num_control\n",
        "        self.fecha = fecha\n",
        "        self.cantidad = cantidad\n",
        "        self.importe = importe\n",
        "\n",
        "    def mostrar_info(self):\n",
        "        print(\n",
        "            f\"Folio: {self.folio_venta} ISBN: {self.isbn} Comprador: {self.num_control} Fecha: {self.fecha} Cantidad: {self.cantidad} Importe: ${self.importe}\")"
      ],
      "metadata": {
        "id": "IuJVVcm1C6vz"
      },
      "execution_count": null,
      "outputs": []
    },
    {
      "cell_type": "code",
      "source": [
        "def alta_libro():\n",
        "    print(\"\\n--- Alta de Libro ---\")\n",
        "    isbn = input(\"ISBN: \")\n",
        "    for libro in libros:\n",
        "        if libro.isbn == isbn:\n",
        "            print(\"¡Ya existe un libro con ese ISBN!\")\n",
        "            return\n",
        "    titulo = input(\"Título: \")\n",
        "    autor = input(\"Autor: \")\n",
        "    categoria = input(\"Categoría: \")\n",
        "    try:\n",
        "        precio = float(input(\"Precio: \"))\n",
        "    except ValueError:\n",
        "        print(\"Precio inválido.\")\n",
        "        return\n",
        "    nuevo_libro = libro(isbn, titulo, autor, categoria, precio)\n",
        "    libros.append(nuevo_libro)\n",
        "    print(\"Libro registrado exitosamente.\")"
      ],
      "metadata": {
        "id": "hQAT9SvWEzJU"
      },
      "execution_count": null,
      "outputs": []
    },
    {
      "cell_type": "code",
      "source": [
        "def devolver_libro():\n",
        "    print(\"\\n--- Devolver Libro ---\")\n",
        "    try:\n",
        "        folio = int(input(\"Folio del préstamo a devolver: \"))\n",
        "    except ValueError:\n",
        "        print(\"Folio inválido.\")\n",
        "        return\n",
        "\n",
        "    prestamo = next((p for p in prestamos if p.folio == folio), None)\n",
        "    if not prestamo:\n",
        "        print(\"Préstamo no encontrado.\")\n",
        "        return\n",
        "\n",
        "    libro = next((l for l in libros if l.isbn == prestamo.isbn), None)\n",
        "    if libro:\n",
        "        libro.prestado = False\n",
        "        prestamos.remove(prestamo)\n",
        "        print(f\"Libro '{libro.titulo}' devuelto correctamente.\")\n",
        "    else:\n",
        "        print(\"Libro no encontrado.\")\n"
      ],
      "metadata": {
        "id": "aynBmtWaDuaW"
      },
      "execution_count": null,
      "outputs": []
    },
    {
      "cell_type": "code",
      "source": [
        "def registrar_venta():\n",
        "    print(\"\\n--- Registrar Venta ---\")\n",
        "    isbn = input(\"ISBN del libro a vender: \")\n",
        "    libro = next((l for l in libros if l.isbn == isbn), None)\n",
        "    if not libro:\n",
        "        print(\"Libro no encontrado.\")\n",
        "        return\n",
        "      try:\n",
        "        cantidad = int(input(\"Cantidad a vender (solo 1 por ahora): \"))\n",
        "        if cantidad != 1:\n",
        "            print(\"Solo se permite vender 1 unidad.\")\n",
        "            return\n",
        "    except ValueError:\n",
        "        print(\"Cantidad inválida.\")\n",
        "        return\n",
        "\n",
        "    num_control = input(\"Número de control del comprador (999999 si es público general): \")\n",
        "    if num_control != \"999999\":\n",
        "        estudiante = next((e for e in estudiantes if e.num_control == num_control), None)\n",
        "        if not estudiante:\n",
        "            print(\"Estudiante no encontrado.\")\n",
        "            return\n",
        "\n",
        "    fecha = input(\"Fecha de la venta (dd/mm/aaaa): \")\n",
        "    importe = libro.precio * cantidad\n",
        "    venta = Venta(isbn, num_control, fecha, cantidad, importe)\n",
        "    ventas.append(venta)\n",
        "    libros.remove(libro)\n",
        "    print(f\"Venta registrada. Folio: {venta.folio_venta}\")"
      ],
      "metadata": {
        "id": "dVdgjYEVDPoY"
      },
      "execution_count": null,
      "outputs": []
    },
    {
      "cell_type": "code",
      "source": [
        "def consultar_libro():\n",
        "    print(\"\\n--- Consultar Libro por ISBN ---\")\n",
        "    isbn = input(\"Ingrese el ISBN del libro: \")\n",
        "    for libro in libros:\n",
        "        if libro.isbn == isbn:\n",
        "            libro.mostrar_info()\n",
        "            return\n",
        "    print(\"Libro no encontrado.\")"
      ],
      "metadata": {
        "id": "WiN2kqXuFXFz"
      },
      "execution_count": null,
      "outputs": []
    },
    {
      "cell_type": "code",
      "source": [
        "def iniciar_sesion():\n",
        "  print(\"\\n--- Iniciar Sesión ---\")\n",
        "  usuario = input(\"Usuario: \")\n",
        "  contraseña = input(\"Contraseña: \")\n",
        "\n",
        "  for t in trabajadores:\n",
        "    if trabajador.usuario == usuario and t.contraseña == contraseña:\n",
        "      print(f\"Bienvenido, {t.nombre}({t.departamento})\")\n",
        "      return t\n",
        "  print(\"Usuario o contraseña incorrectos.\")\n",
        "  return None"
      ],
      "metadata": {
        "id": "FH4FUO51Fv-n"
      },
      "execution_count": null,
      "outputs": []
    },
    {
      "cell_type": "code",
      "source": [
        "def consultar_estudiante():\n",
        "    print(\"\\n--- Consultar Estudiante por Número de Control ---\")\n",
        "    num_control = input(\"Ingrese el número de control: \")\n",
        "    for est in estudiantes:\n",
        "        if est.num_control == num_control:\n",
        "            est.mostrar_info()\n",
        "            return\n",
        "    print(\"Estudiante no encontrado.\")"
      ],
      "metadata": {
        "id": "3i4DYCBbF332"
      },
      "execution_count": null,
      "outputs": []
    },
    {
      "cell_type": "code",
      "source": [
        "def mostrar_todos_libros():\n",
        "    print(\"\\n--- Lista de Todos los Libros ---\")\n",
        "    if not libros:\n",
        "        print(\"No hay libros registrados.\")\n",
        "    else:\n",
        "        for libro in libros:\n",
        "            libro.mostrar_info()\n"
      ],
      "metadata": {
        "id": "XdSCjHx6F32_"
      },
      "execution_count": null,
      "outputs": []
    },
    {
      "cell_type": "code",
      "source": [
        "def mostrar_todos_estudiantes():\n",
        "    print(\"\\n--- Lista de Todos los Estudiantes ---\")\n",
        "    if not estudiantes:\n",
        "        print(\"No hay estudiantes registrados.\")\n",
        "    else:\n",
        "        for est in estudiantes:\n",
        "            est.mostrar_info()"
      ],
      "metadata": {
        "id": "8CPk2fsQGDTQ"
      },
      "execution_count": null,
      "outputs": []
    },
    {
      "cell_type": "code",
      "source": [
        "def realizar_prestamo():\n",
        "    print(\"\\n--- Realizar Préstamo ---\")\n",
        "    num_control = input(\"Número de control del estudiante: \")\n",
        "    isbn = input(\"ISBN del libro: \")\n",
        "    estudiante = next((e for e in estudiantes if e.num_control == num_control), None)\n",
        "    if not estudiante:\n",
        "        print(\"Estudiante no encontrado.\")\n",
        "        return\n",
        "    libro = next((l for l in libros if l.isbn == isbn), None)\n",
        "    if not libro:\n",
        "        print(\"Libro no encontrado.\")\n",
        "        return\n",
        "    if libro.prestado:\n",
        "        print(\"El libro ya está prestado.\")\n",
        "        return\n",
        "    fecha_inicio = input(\"Fecha de inicio (dd/mm/aaaa): \")\n",
        "    fecha_termino = input(\"Fecha de término (dd/mm/aaaa): \")\n",
        "    prestamo = Prestamo(num_control, isbn, fecha_inicio, fecha_termino)\n",
        "    prestamos.append(prestamo)\n",
        "    libro.prestado = True\n",
        "    print(f\"Préstamo registrado con folio {prestamo.folio}.\")"
      ],
      "metadata": {
        "id": "d994RemXGL6b"
      },
      "execution_count": null,
      "outputs": []
    },
    {
      "cell_type": "code",
      "source": [
        "def mostrar_prestamos():\n",
        "    print(\"\\n--- Lista de Préstamos ---\")\n",
        "    if not prestamos:\n",
        "        print(\"No hay préstamos registrados.\")\n",
        "    else:\n",
        "        for p in prestamos:\n",
        "            p.mostrar_info()\n"
      ],
      "metadata": {
        "id": "-qFGPRe7GPnm"
      },
      "execution_count": null,
      "outputs": []
    },
    {
      "cell_type": "code",
      "source": [
        "def devolver_libro():\n",
        "    # pendiente\n",
        "    pass\n",
        "\n",
        "\n",
        "def registrar_venta():\n",
        "    # pendiente\n",
        "    pass\n",
        "\n",
        "\n",
        "def mostrar_historial_ventas():\n",
        "    # pendiente\n",
        "    pass"
      ],
      "metadata": {
        "id": "cReh-p0BGdDX"
      },
      "execution_count": null,
      "outputs": []
    },
    {
      "cell_type": "code",
      "source": [
        "# Listas globales\n",
        "libros = []\n",
        "estudiantes = []  # Corrected variable name\n",
        "prestamos = []\n",
        "ventas = []\n",
        "trabajadores = []"
      ],
      "metadata": {
        "id": "jvevzcv_Gsaa"
      },
      "execution_count": null,
      "outputs": []
    },
    {
      "cell_type": "code",
      "source": [
        "def mostrar_menu():\n",
        "    print(\"\\n--- SISTEMA DE LIBRERÍA ESCOLAR ---\")\n",
        "    print(\"1. Dar de alta libro\")\n",
        "    print(\"2. Dar de alta estudiante\")\n",
        "    print(\"3. Consultar libro por ISBN\")\n",
        "    print(\"4.Consultar estudiante por número de control\")\n",
        "    print(\"5.Mostrar todos los libros\")\n",
        "    print(\"6. Mostrar todos los estudiantes\")\n",
        "    print(\"7. Realizar préstamo\")\n",
        "    print(\"8. Salir del sistema\")\n",
        "    print(\"9. Mostrar lista de préstamos\")\n",
        "    print(\"10. Devolver libro\")\n",
        "    print(\"12. Registrar venta\")\n",
        "    print(\"11. Mostrar historial de ventas\")\n",
        "    print(\"13. dar de alta trabajador\")\n",
        "    print(\"14. listar todos los trabajadores\")\n",
        "    print(\"15 salir del sistema\")"
      ],
      "metadata": {
        "id": "VDV4_k3DGwqZ"
      },
      "execution_count": null,
      "outputs": []
    },
    {
      "cell_type": "code",
      "source": [
        "def iniciar_sistema():\n",
        "    while True:\n",
        "        mostrar_menu()\n",
        "        opcion = input(\"Seleccione una opción: \")\n",
        "        if opcion == \"1\":\n",
        "            alta_libro()\n",
        "        elif opcion == \"2\":\n",
        "            alta_estudiante()\n",
        "        elif opcion == \"3\":\n",
        "            consultar_libro()\n",
        "        elif opcion == \"4\":\n",
        "            consultar_estudiante()\n",
        "        elif opcion == \"5\":\n",
        "            mostrar_todos_libros()\n",
        "        elif opcion == \"6\":\n",
        "            mostrar_todos_estudiantes()\n",
        "        elif opcion == \"7\":\n",
        "            realizar_prestamo()\n",
        "        elif opcion == \"8\":\n",
        "            print(\"Saliendo del sistema. ¡Hasta luego!\")\n",
        "            break\n",
        "        elif opcion == \"9\":\n",
        "            mostrar_prestamos()\n",
        "        elif opcion == \"10\":\n",
        "            devolver_libro()\n",
        "        elif opcion == \"11\":\n",
        "            mostrar_historial_ventas()\n",
        "        elif opcion == \"12\":\n",
        "            registrar_venta()\n",
        "        else:\n",
        "            print(\"Opción no válida. Intente de nuevo.\")"
      ],
      "metadata": {
        "id": "SwHqollpG79E"
      },
      "execution_count": null,
      "outputs": []
    },
    {
      "cell_type": "code",
      "source": [
        "# iniciar sistema\n",
        "iniciar_sistema()\n",
        "\n",
        "\n",
        "def mostrar_historial_ventas():\n",
        "    print(\"\\n--- Historial de Ventas ---\")\n",
        "    if not ventas:\n",
        "        print(\"No hay ventas registradas.\")\n",
        "    else:\n",
        "        for v in ventas:\n",
        "            v.mostrar_info()\n"
      ],
      "metadata": {
        "id": "b7kCEhe9HE5q"
      },
      "execution_count": null,
      "outputs": []
    },
    {
      "cell_type": "code",
      "source": [
        "def iniciar_sistema():\n",
        "  trabajador_activo = none\n",
        "  while true:\n",
        "    if not trabajador_activo:\n",
        "      trabajador_activo = iniciar_sesion()\n",
        "      if not trabajador_activo:\n",
        "        continuar = input(\"¿desea intentar nuevavente? (s/n): \").lower()\n",
        "        if continuar != \"s\":\n",
        "          break\n",
        "    else:\n",
        "      mostrar_menu()\n",
        "      opcion = input(\"seleccione una opcion: \")\n",
        "      if opcion == \"1\":\n",
        "        alta_libro()\n",
        "      elif opcion == \"2\":\n",
        "        alta_estudiante()\n",
        "      elif opcion == \"3\":"
      ],
      "metadata": {
        "id": "6prqJRgr6LFl"
      },
      "execution_count": null,
      "outputs": []
    }
  ]
}